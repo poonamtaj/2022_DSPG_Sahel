{
  "cells": [
    {
      "cell_type": "markdown",
      "metadata": {
        "colab_type": "text",
        "id": "view-in-github"
      },
      "source": [
        "<a href=\"https://colab.research.google.com/github/poonamtaj/2022_DSPG_Sahel/blob/main/DSPG_Sahel_Niger_zonalStat.ipynb\" target=\"_parent\"><img src=\"https://colab.research.google.com/assets/colab-badge.svg\" alt=\"Open In Colab\"/></a>"
      ]
    },
    {
      "cell_type": "code",
      "execution_count": null,
      "metadata": {
        "id": "Nt9O8zIzX7Fl"
      },
      "outputs": [],
      "source": [
        "!pip install geemap"
      ]
    },
    {
      "cell_type": "code",
      "execution_count": null,
      "metadata": {
        "colab": {
          "base_uri": "https://localhost:8080/",
          "height": 176
        },
        "id": "bl5lGf1lYCgZ",
        "outputId": "9d85680d-767c-4072-8e78-4788208fb75e"
      },
      "outputs": [
        {
          "name": "stdout",
          "output_type": "stream",
          "text": [
            "To authorize access needed by Earth Engine, open the following URL in a web browser and follow the instructions. If the web browser does not start automatically, please manually browse the URL below.\n",
            "\n",
            "    https://code.earthengine.google.com/client-auth?scopes=https%3A//www.googleapis.com/auth/earthengine%20https%3A//www.googleapis.com/auth/devstorage.full_control&request_id=Ncnaju47lDk7eZjNe0sP7C5RwFZKeYyTlwyIhhKMd3U&tc=DSYuIQFkWJNs7cFUYLsUqaiTEMpj6bZZ1helctt4Y14&cc=c6psl6Vaq3pNo399rVA8bp94Y7lRq6N_8I3YHqLLf5I\n",
            "\n",
            "The authorization workflow will generate a code, which you should paste in the box below. \n",
            "Enter verification code: 4/1AX4XfWj_d-9HXPJCYR3Ewsq1HBjkyXrw5Viw-oSCPJD4C07HppIya-JN33g\n",
            "\n",
            "Successfully saved authorization token.\n"
          ]
        }
      ],
      "source": [
        "import ee\n",
        "import geemap\n",
        "import os\n",
        "import pandas as pd\n",
        "ee.Authenticate()"
      ]
    },
    {
      "cell_type": "code",
      "execution_count": null,
      "metadata": {
        "id": "CdEbhCK-Ywyi"
      },
      "outputs": [],
      "source": [
        "Map = geemap.Map()\n",
        "Map"
      ]
    },
    {
      "cell_type": "code",
      "execution_count": null,
      "metadata": {
        "id": "ix8cs9InjzbC"
      },
      "outputs": [],
      "source": [
        "## add your shapefile Admin 2 Departments (total 67)\n",
        "niger_L2_shp = ee.FeatureCollection('projects/poonamtaj-geemap/assets/niger_admin2') ##change the asset id for the relevant shapefile\n",
        "Map.centerObject(niger_L2_shp, 5)\n",
        "Map.addLayer(niger_L2_shp, {}, 'Niger Level 2 Departments')"
      ]
    },
    {
      "cell_type": "code",
      "execution_count": null,
      "metadata": {
        "id": "0oon9lnjclAO"
      },
      "outputs": [],
      "source": [
        "## add your shapefile Admin 3 Communs (total 266)\n",
        "niger_L3_shp = ee.FeatureCollection('projects/poonamtaj-geemap/assets/niger_admin3') ##change the asset id for the relevant shapefile\n",
        "Map.centerObject(niger_L3_shp, 5)\n",
        "Map.addLayer(niger_L3_shp, {}, 'Niger Level 3 Communes')"
      ]
    },
    {
      "cell_type": "markdown",
      "metadata": {
        "id": "2sglsHq4Zx4p"
      },
      "source": [
        "# CHIRPS (Pentad) Time series zonal statistics at admin 2 level"
      ]
    },
    {
      "cell_type": "code",
      "execution_count": null,
      "metadata": {
        "id": "jXehlYhmG3iJ"
      },
      "outputs": [],
      "source": [
        "## Time series on multiple polygons using CHIRPS dataset \n",
        "## https://developers.google.com/earth-engine/datasets/catalog/UCSB-CHG_CHIRPS_PENTAD\n",
        "\n",
        "## we may have to split the time period and extract data in multiple periods when we aggregate with 'Median'. \n",
        "## We chose one/two years at a time to extract the csv files. \n",
        "\n",
        "image_collection_name = \"UCSB-CHG/CHIRPS/PENTAD\"\n",
        "date_start = '1981-01-01' ## change the date for multiple periods\n",
        "date_end = '2022-04-30'   ## change the date for multiple periods\n",
        "name = 'CHIRPS'\n",
        "\n",
        "image_collection = (\n",
        "    ee.ImageCollection(image_collection_name)\n",
        "    .filter(ee.Filter.date(date_start, date_end)).select('precipitation')\n",
        ")\n",
        "\n",
        "# For visualization purposes\n",
        "image = image_collection.first()\n",
        "image = image.clip(niger_L3_shp)\n",
        "\n",
        "palette = ['FFFFFF', 'CE7E45', 'DF923D', 'F1B555', 'FCD163', '99B718', '74A901',\n",
        "    '66A000', '529400', '3E8601', '207401', '056201', '004C00', '023B01',\n",
        "    '012E01', '011D01', '011301']\n",
        "\n",
        "vizParams = {\n",
        "    'min': 0, \n",
        "    'max': 1080,\n",
        "    'palette': palette, \n",
        "    'opacity': 0.6\n",
        "}\n",
        "\n",
        "Map.addLayer(image, vizParams, 'CHIRPS Rainfall')\n",
        "Map"
      ]
    },
    {
      "cell_type": "code",
      "execution_count": null,
      "metadata": {
        "id": "cIT2FGm3HoNj"
      },
      "outputs": [],
      "source": [
        "# Multi-layered image that will give us time series data\n",
        "precipitaion_ts = image_collection.toBands()"
      ]
    },
    {
      "cell_type": "code",
      "execution_count": null,
      "metadata": {
        "colab": {
          "base_uri": "https://localhost:8080/"
        },
        "id": "L-ulIxpTHtT8",
        "outputId": "3657ee92-624d-4139-c44f-0d2f393c96a3"
      },
      "outputs": [
        {
          "name": "stdout",
          "output_type": "stream",
          "text": [
            "Computing statistics ...\n",
            "Generating URL ...\n",
            "Downloading data from https://earthengine.googleapis.com/v1alpha/projects/earthengine-legacy/tables/7c198590752181fc5f98a0e0b17754c1-2bb0f6320b29da2b08936ea0903cb8bb:getFeatures\n",
            "Please wait ...\n",
            "Data downloaded to /rainfall_ts_niger.csv\n"
          ]
        }
      ],
      "source": [
        "## extract the zonal statistics for our admin units as csv file, aggregation with 'SUM'\n",
        "outputSum = '/rainfallSum_ts_niger_adm2.csv'\n",
        "geemap.zonal_statistics(precipitaion_ts, niger_L2_shp, outputSum, statistics_type='SUM', scale=5000) ## replace with niger_L3_shp"
      ]
    },
    {
      "cell_type": "code",
      "execution_count": null,
      "metadata": {
        "id": "OCnAZR3wHyla"
      },
      "outputs": [],
      "source": [
        "df5 = pd.read_csv(outputSum)\n",
        "df5"
      ]
    },
    {
      "cell_type": "code",
      "execution_count": null,
      "metadata": {
        "colab": {
          "base_uri": "https://localhost:8080/"
        },
        "id": "TbDsg7iKbL7N",
        "outputId": "2c2b00bc-bd91-4485-cac2-7b26e1396425"
      },
      "outputs": [
        {
          "name": "stdout",
          "output_type": "stream",
          "text": [
            "Computing statistics ...\n",
            "Generating URL ...\n",
            "Downloading data from https://earthengine.googleapis.com/v1alpha/projects/earthengine-legacy/tables/2426a11268bd1d320ddfb0dff22c00e9-2e02a8d64837072b8b692b81090c6686:getFeatures\n",
            "Please wait ...\n",
            "Data downloaded to /rainfallMean_ts_niger_adm3.csv\n"
          ]
        }
      ],
      "source": [
        "## extract the zonal statistics for our admin units asa  csv file, aggregation with 'MEAN'\n",
        "outputMean = '/rainfallMean_ts_niger_adm2.csv'\n",
        "geemap.zonal_statistics(precipitaion_ts, niger_L2_shp, outputMean, statistics_type='MEAN', scale=5000)"
      ]
    },
    {
      "cell_type": "code",
      "execution_count": null,
      "metadata": {
        "id": "A3jUnB7sbVyu"
      },
      "outputs": [],
      "source": [
        "df6 = pd.read_csv(outputMean)\n",
        "df6"
      ]
    },
    {
      "cell_type": "code",
      "execution_count": null,
      "metadata": {
        "id": "W6GfYVbmnYIF"
      },
      "outputs": [],
      "source": [
        "## extract the zonal statistics for our admin units as a csv file, aggregation with 'MEDIAN'\n",
        "outputMedian = '/rainfallMedian_ts_niger_adm2.csv'\n",
        "geemap.zonal_statistics(precipitaion_ts, niger_L2_shp, outputMedian, statistics_type='MEDIAN', scale=5000) ## replace with niger_L3_shp"
      ]
    },
    {
      "cell_type": "code",
      "execution_count": null,
      "metadata": {
        "id": "IORIus51oEbE"
      },
      "outputs": [],
      "source": [
        "df6 = pd.read_csv(outputMedian)\n",
        "df6"
      ]
    },
    {
      "cell_type": "markdown",
      "metadata": {
        "id": "dzhvfmwpjW05"
      },
      "source": [
        "# NOAA NDVI Time Series zonal statistics at admin 2 level\n",
        "\n"
      ]
    },
    {
      "cell_type": "code",
      "execution_count": null,
      "metadata": {
        "colab": {
          "base_uri": "https://localhost:8080/",
          "height": 621,
          "referenced_widgets": [
            "f9354cafd0a345d199279dcf6ccd08ba",
            "53d9add4e8a84e38aec4f4c5f3229a48",
            "2f2742e39f2a4ff48bf9c464c279f084",
            "664b4a1c8e8f4e62a58092ea1ca22dcb",
            "a7070afe39bb4640939de301d3575792",
            "542c1e8c0750486ca9f496c22e37c417",
            "e941be66e95c4e9383552c515ffc5190",
            "2330b84b3b224b09a60af2a6e0d9303f",
            "50f7266ab2444d3cbf3a2e20bb664438",
            "30e14db46db14172b3c7f2ce2916892d",
            "6fe8b74e3ad54509a010f575bf34492a",
            "6f41cee686ec407cb95570c1044ecbc8",
            "611e693de45a445594b8d7f52bb91388",
            "9cf646965d44456bbe8eb63136744d7e",
            "84817eefd28d4f8d9b4bb8f539dd946e",
            "6a3a948f22aa4e17a48a888b4cae9db3",
            "aa12d63966b54bb48a373720a8555d10",
            "d6df360499f44254a8802a0bcd8dd69b",
            "fd51193161c645c5a97a75873d8a857e",
            "5e4d66f47fec4f7f942d9345e7df226a",
            "0141198a562b49b2949183ad8bdf730a",
            "550513982b924b9cb874f61afc99f338",
            "2e604587847f4d37ab4a3a90c23fecd4",
            "f62948c3df1f431193db3047cbd45a4b",
            "d3aca4afbbc742108a14393fad56039a",
            "2801d579c965426d82a56896e5481b25"
          ]
        },
        "id": "nERN7oL_jd6X",
        "outputId": "2bae84c2-37dc-4583-b93a-ebe905b015e9"
      },
      "outputs": [
        {
          "data": {
            "application/vnd.jupyter.widget-view+json": {
              "model_id": "f9354cafd0a345d199279dcf6ccd08ba",
              "version_major": 2,
              "version_minor": 0
            },
            "text/plain": [
              "Map(bottom=3993.0, center=[17.416680667959515, 9.347053286942527], controls=(WidgetControl(options=['position'…"
            ]
          },
          "metadata": {
            "application/vnd.jupyter.widget-view+json": {
              "colab": {
                "custom_widget_manager": {
                  "url": "https://ssl.gstatic.com/colaboratory-static/widgets/colab-cdn-widget-manager/a8874ba6619b6106/manager.min.js"
                }
              }
            }
          },
          "output_type": "display_data"
        }
      ],
      "source": [
        "## Time series on multiple polygons using NOAA- AVHRR NDVI dataset \n",
        "## https://developers.google.com/earth-engine/datasets/catalog/NOAA_CDR_AVHRR_NDVI_V5\n",
        "\n",
        "## we may have to split the time period and extract data in two or more periods.\n",
        "## For aggregation with 'mean' we used two periods: (1) '1982-01-01' to '2000-12-31' (2) '2001-01-01' to '2021-12-31'\n",
        "\n",
        "## we may have to split the time period and extract data in multiple periods when we aggregate with 'Median'. \n",
        "## We chose one year at a time to extract the csv files. \n",
        "\n",
        "image_collection_nameNOAA = \"NOAA/CDR/AVHRR/NDVI/V5\"\n",
        "date_start = '1982-01-01' ## change the date for multiple periods\n",
        "date_end = '2000-12-31'   ## change the date for multiple periods\n",
        "name = 'NDVI'\n",
        "\n",
        "image_collection_NOAA = (\n",
        "    ee.ImageCollection(image_collection_nameNOAA)\n",
        "    .filter(ee.Filter.date(date_start, date_end)).select('NDVI')\n",
        ")\n",
        "\n",
        "# For visualization purposes\n",
        "image_NOAA = image_collection_NOAA.first()\n",
        "image_NOAA = image_NOAA.clip(niger_L2_shp)\n",
        "\n",
        "palette = ['FFFFFF', 'CE7E45', 'DF923D', 'F1B555', 'FCD163', '99B718', '74A901',\n",
        "    '66A000', '529400', '3E8601', '207401', '056201', '004C00', '023B01',\n",
        "    '012E01', '011D01', '011301']\n",
        "\n",
        "vizParams = {\n",
        "    'min': -9998, \n",
        "    'max': 9998,\n",
        "    'palette': palette, \n",
        "    'opacity': 0.6\n",
        "}\n",
        "\n",
        "Map.addLayer(image_NOAA, vizParams, 'NOAA NDVI')\n",
        "Map\n"
      ]
    },
    {
      "cell_type": "code",
      "execution_count": null,
      "metadata": {
        "id": "y7drgsDY4_dD"
      },
      "outputs": [],
      "source": [
        "# Multi-layered image that will give us time series data\n",
        "NOAA_ts = image_collection_NOAA.toBands()"
      ]
    },
    {
      "cell_type": "code",
      "execution_count": null,
      "metadata": {
        "id": "shni6i675cNf"
      },
      "outputs": [],
      "source": [
        "## extract the zonal statistics for our admin units as a csv file, aggregation with 'MEAN'\n",
        "outputNDVIMean = '/ndviMean_ts_niger_adm2.csv'\n",
        "geemap.zonal_statistics(NOAA_ts, niger_L2_shp, outputNDVIMean, statistics_type='MEAN', scale=5600)"
      ]
    },
    {
      "cell_type": "code",
      "execution_count": null,
      "metadata": {
        "id": "C4kMCknF6GMT"
      },
      "outputs": [],
      "source": [
        "df7 = pd.read_csv(outputNDVIMean)\n",
        "df7"
      ]
    },
    {
      "cell_type": "code",
      "execution_count": null,
      "metadata": {
        "id": "b50cAIzGkAOO"
      },
      "outputs": [],
      "source": [
        "## extract the zonal statistics for our admin units as a csv file, aggregation with 'MEDIAN'\n",
        "outputNDVIMedian = '/ndviMedian_ts_niger_adm2.csv'\n",
        "geemap.zonal_statistics(NOAA_ts, niger_L2_shp, outputNDVIMedian, statistics_type='MEDIAN', scale=5600)"
      ]
    },
    {
      "cell_type": "code",
      "execution_count": null,
      "metadata": {
        "id": "FkLpqYTpkOaP"
      },
      "outputs": [],
      "source": [
        "df7 = pd.read_csv(outputNDVIMedian)\n",
        "df7"
      ]
    }
  ],
  "metadata": {
    "colab": {
      "collapsed_sections": [],
      "include_colab_link": true,
      "name": "DSPG_Sahel_Niger_zonalStat.ipynb",
      "provenance": [],
      "toc_visible": true
    },
    "kernelspec": {
      "display_name": "Python 3",
      "name": "python3"
    },
    "language_info": {
      "name": "python"
    },
    "widgets": {
      "application/vnd.jupyter.widget-state+json": {
        "0141198a562b49b2949183ad8bdf730a": {
          "model_module": "@jupyter-widgets/controls",
          "model_module_version": "1.5.0",
          "model_name": "ToggleButtonModel",
          "state": {
            "_dom_classes": [],
            "_model_module": "@jupyter-widgets/controls",
            "_model_module_version": "1.5.0",
            "_model_name": "ToggleButtonModel",
            "_view_count": null,
            "_view_module": "@jupyter-widgets/controls",
            "_view_module_version": "1.5.0",
            "_view_name": "ToggleButtonView",
            "button_style": "",
            "description": "",
            "description_tooltip": null,
            "disabled": false,
            "icon": "wrench",
            "layout": "IPY_MODEL_d3aca4afbbc742108a14393fad56039a",
            "style": "IPY_MODEL_2801d579c965426d82a56896e5481b25",
            "tooltip": "Toolbar",
            "value": false
          }
        },
        "2330b84b3b224b09a60af2a6e0d9303f": {
          "model_module": "jupyter-leaflet",
          "model_module_version": "^0.16.0",
          "model_name": "LeafletDrawControlModel",
          "state": {
            "_model_module": "jupyter-leaflet",
            "_model_module_version": "^0.16.0",
            "_model_name": "LeafletDrawControlModel",
            "_view_count": null,
            "_view_module": "jupyter-leaflet",
            "_view_module_version": "^0.16.0",
            "_view_name": "LeafletDrawControlView",
            "circle": {
              "shapeOptions": {
                "color": "#3388ff"
              }
            },
            "circlemarker": {},
            "data": [],
            "edit": true,
            "marker": {
              "shapeOptions": {
                "color": "#3388ff"
              }
            },
            "options": [
              "position"
            ],
            "polygon": {
              "shapeOptions": {}
            },
            "polyline": {
              "shapeOptions": {}
            },
            "position": "topleft",
            "rectangle": {
              "shapeOptions": {
                "color": "#3388ff"
              }
            },
            "remove": true
          }
        },
        "2801d579c965426d82a56896e5481b25": {
          "model_module": "@jupyter-widgets/controls",
          "model_module_version": "1.5.0",
          "model_name": "DescriptionStyleModel",
          "state": {
            "_model_module": "@jupyter-widgets/controls",
            "_model_module_version": "1.5.0",
            "_model_name": "DescriptionStyleModel",
            "_view_count": null,
            "_view_module": "@jupyter-widgets/base",
            "_view_module_version": "1.2.0",
            "_view_name": "StyleView",
            "description_width": ""
          }
        },
        "2e604587847f4d37ab4a3a90c23fecd4": {
          "model_module": "@jupyter-widgets/base",
          "model_module_version": "1.2.0",
          "model_name": "LayoutModel",
          "state": {
            "_model_module": "@jupyter-widgets/base",
            "_model_module_version": "1.2.0",
            "_model_name": "LayoutModel",
            "_view_count": null,
            "_view_module": "@jupyter-widgets/base",
            "_view_module_version": "1.2.0",
            "_view_name": "LayoutView",
            "align_content": null,
            "align_items": null,
            "align_self": null,
            "border": null,
            "bottom": null,
            "display": null,
            "flex": null,
            "flex_flow": null,
            "grid_area": null,
            "grid_auto_columns": null,
            "grid_auto_flow": null,
            "grid_auto_rows": null,
            "grid_column": null,
            "grid_gap": null,
            "grid_row": null,
            "grid_template_areas": null,
            "grid_template_columns": null,
            "grid_template_rows": null,
            "height": "28px",
            "justify_content": null,
            "justify_items": null,
            "left": null,
            "margin": null,
            "max_height": null,
            "max_width": null,
            "min_height": null,
            "min_width": null,
            "object_fit": null,
            "object_position": null,
            "order": null,
            "overflow": null,
            "overflow_x": null,
            "overflow_y": null,
            "padding": "0px 0px 0px 4px",
            "right": null,
            "top": null,
            "visibility": null,
            "width": "28px"
          }
        },
        "2f2742e39f2a4ff48bf9c464c279f084": {
          "model_module": "jupyter-leaflet",
          "model_module_version": "^0.16.0",
          "model_name": "LeafletZoomControlModel",
          "state": {
            "_model_module": "jupyter-leaflet",
            "_model_module_version": "^0.16.0",
            "_model_name": "LeafletZoomControlModel",
            "_view_count": null,
            "_view_module": "jupyter-leaflet",
            "_view_module_version": "^0.16.0",
            "_view_name": "LeafletZoomControlView",
            "options": [
              "position",
              "zoom_in_text",
              "zoom_in_title",
              "zoom_out_text",
              "zoom_out_title"
            ],
            "position": "topleft",
            "zoom_in_text": "+",
            "zoom_in_title": "Zoom in",
            "zoom_out_text": "-",
            "zoom_out_title": "Zoom out"
          }
        },
        "30e14db46db14172b3c7f2ce2916892d": {
          "model_module": "jupyter-leaflet",
          "model_module_version": "^0.16.0",
          "model_name": "LeafletMapStyleModel",
          "state": {
            "_model_module": "jupyter-leaflet",
            "_model_module_version": "^0.16.0",
            "_model_name": "LeafletMapStyleModel",
            "_view_count": null,
            "_view_module": "@jupyter-widgets/base",
            "_view_module_version": "1.2.0",
            "_view_name": "StyleView",
            "cursor": "grab"
          }
        },
        "50f7266ab2444d3cbf3a2e20bb664438": {
          "model_module": "jupyter-leaflet",
          "model_module_version": "^0.16.0",
          "model_name": "LeafletWidgetControlModel",
          "state": {
            "_model_module": "jupyter-leaflet",
            "_model_module_version": "^0.16.0",
            "_model_name": "LeafletWidgetControlModel",
            "_view_count": null,
            "_view_module": "jupyter-leaflet",
            "_view_module_version": "^0.16.0",
            "_view_name": "LeafletWidgetControlView",
            "max_height": null,
            "max_width": null,
            "min_height": null,
            "min_width": null,
            "options": [
              "position",
              "transparent_bg"
            ],
            "position": "topright",
            "transparent_bg": false,
            "widget": "IPY_MODEL_d6df360499f44254a8802a0bcd8dd69b"
          }
        },
        "53d9add4e8a84e38aec4f4c5f3229a48": {
          "model_module": "jupyter-leaflet",
          "model_module_version": "^0.16.0",
          "model_name": "LeafletWidgetControlModel",
          "state": {
            "_model_module": "jupyter-leaflet",
            "_model_module_version": "^0.16.0",
            "_model_name": "LeafletWidgetControlModel",
            "_view_count": null,
            "_view_module": "jupyter-leaflet",
            "_view_module_version": "^0.16.0",
            "_view_name": "LeafletWidgetControlView",
            "max_height": null,
            "max_width": null,
            "min_height": null,
            "min_width": null,
            "options": [
              "position",
              "transparent_bg"
            ],
            "position": "topleft",
            "transparent_bg": false,
            "widget": "IPY_MODEL_aa12d63966b54bb48a373720a8555d10"
          }
        },
        "542c1e8c0750486ca9f496c22e37c417": {
          "model_module": "jupyter-leaflet",
          "model_module_version": "^0.16.0",
          "model_name": "LeafletMeasureControlModel",
          "state": {
            "_custom_units": {},
            "_model_module": "jupyter-leaflet",
            "_model_module_version": "^0.16.0",
            "_model_name": "LeafletMeasureControlModel",
            "_view_count": null,
            "_view_module": "jupyter-leaflet",
            "_view_module_version": "^0.16.0",
            "_view_name": "LeafletMeasureControlView",
            "active_color": "orange",
            "capture_z_index": 10000,
            "completed_color": "#C8F2BE",
            "options": [
              "active_color",
              "capture_z_index",
              "completed_color",
              "popup_options",
              "position",
              "primary_area_unit",
              "primary_length_unit",
              "secondary_area_unit",
              "secondary_length_unit"
            ],
            "popup_options": {
              "autoPanPadding": [
                10,
                10
              ],
              "className": "leaflet-measure-resultpopup"
            },
            "position": "bottomleft",
            "primary_area_unit": "acres",
            "primary_length_unit": "kilometers",
            "secondary_area_unit": null,
            "secondary_length_unit": null
          }
        },
        "550513982b924b9cb874f61afc99f338": {
          "model_module": "@jupyter-widgets/base",
          "model_module_version": "1.2.0",
          "model_name": "LayoutModel",
          "state": {
            "_model_module": "@jupyter-widgets/base",
            "_model_module_version": "1.2.0",
            "_model_name": "LayoutModel",
            "_view_count": null,
            "_view_module": "@jupyter-widgets/base",
            "_view_module_version": "1.2.0",
            "_view_name": "LayoutView",
            "align_content": null,
            "align_items": null,
            "align_self": null,
            "border": null,
            "bottom": null,
            "display": null,
            "flex": null,
            "flex_flow": null,
            "grid_area": null,
            "grid_auto_columns": null,
            "grid_auto_flow": null,
            "grid_auto_rows": null,
            "grid_column": null,
            "grid_gap": null,
            "grid_row": null,
            "grid_template_areas": null,
            "grid_template_columns": null,
            "grid_template_rows": null,
            "height": null,
            "justify_content": null,
            "justify_items": null,
            "left": null,
            "margin": null,
            "max_height": null,
            "max_width": null,
            "min_height": null,
            "min_width": null,
            "object_fit": null,
            "object_position": null,
            "order": null,
            "overflow": null,
            "overflow_x": null,
            "overflow_y": null,
            "padding": null,
            "right": null,
            "top": null,
            "visibility": null,
            "width": null
          }
        },
        "5e4d66f47fec4f7f942d9345e7df226a": {
          "model_module": "@jupyter-widgets/base",
          "model_module_version": "1.2.0",
          "model_name": "LayoutModel",
          "state": {
            "_model_module": "@jupyter-widgets/base",
            "_model_module_version": "1.2.0",
            "_model_name": "LayoutModel",
            "_view_count": null,
            "_view_module": "@jupyter-widgets/base",
            "_view_module_version": "1.2.0",
            "_view_name": "LayoutView",
            "align_content": null,
            "align_items": null,
            "align_self": null,
            "border": null,
            "bottom": null,
            "display": null,
            "flex": null,
            "flex_flow": null,
            "grid_area": null,
            "grid_auto_columns": null,
            "grid_auto_flow": null,
            "grid_auto_rows": null,
            "grid_column": null,
            "grid_gap": null,
            "grid_row": null,
            "grid_template_areas": null,
            "grid_template_columns": null,
            "grid_template_rows": null,
            "height": null,
            "justify_content": null,
            "justify_items": null,
            "left": null,
            "margin": null,
            "max_height": null,
            "max_width": null,
            "min_height": null,
            "min_width": null,
            "object_fit": null,
            "object_position": null,
            "order": null,
            "overflow": null,
            "overflow_x": null,
            "overflow_y": null,
            "padding": null,
            "right": null,
            "top": null,
            "visibility": null,
            "width": null
          }
        },
        "611e693de45a445594b8d7f52bb91388": {
          "model_module": "jupyter-leaflet",
          "model_module_version": "^0.16.0",
          "model_name": "LeafletTileLayerModel",
          "state": {
            "_model_module": "jupyter-leaflet",
            "_model_module_version": "^0.16.0",
            "_model_name": "LeafletTileLayerModel",
            "_view_count": null,
            "_view_module": "jupyter-leaflet",
            "_view_module_version": "^0.16.0",
            "_view_name": "LeafletTileLayerView",
            "attribution": "Google",
            "base": false,
            "bottom": true,
            "bounds": null,
            "detect_retina": false,
            "loading": false,
            "max_native_zoom": 18,
            "max_zoom": 22,
            "min_native_zoom": 0,
            "min_zoom": 0,
            "name": "Google Maps",
            "no_wrap": false,
            "opacity": 1,
            "options": [
              "attribution",
              "bounds",
              "detect_retina",
              "max_native_zoom",
              "max_zoom",
              "min_native_zoom",
              "min_zoom",
              "no_wrap",
              "tile_size",
              "tms"
            ],
            "popup": null,
            "popup_max_height": null,
            "popup_max_width": 300,
            "popup_min_width": 50,
            "show_loading": false,
            "tile_size": 256,
            "tms": false,
            "url": "https://mt1.google.com/vt/lyrs=m&x={x}&y={y}&z={z}",
            "visible": true
          }
        },
        "664b4a1c8e8f4e62a58092ea1ca22dcb": {
          "model_module": "jupyter-leaflet",
          "model_module_version": "^0.16.0",
          "model_name": "LeafletScaleControlModel",
          "state": {
            "_model_module": "jupyter-leaflet",
            "_model_module_version": "^0.16.0",
            "_model_name": "LeafletScaleControlModel",
            "_view_count": null,
            "_view_module": "jupyter-leaflet",
            "_view_module_version": "^0.16.0",
            "_view_name": "LeafletScaleControlView",
            "imperial": true,
            "max_width": 100,
            "metric": true,
            "options": [
              "imperial",
              "max_width",
              "metric",
              "position",
              "update_when_idle"
            ],
            "position": "bottomleft",
            "update_when_idle": false
          }
        },
        "6a3a948f22aa4e17a48a888b4cae9db3": {
          "model_module": "@jupyter-widgets/base",
          "model_module_version": "1.2.0",
          "model_name": "LayoutModel",
          "state": {
            "_model_module": "@jupyter-widgets/base",
            "_model_module_version": "1.2.0",
            "_model_name": "LayoutModel",
            "_view_count": null,
            "_view_module": "@jupyter-widgets/base",
            "_view_module_version": "1.2.0",
            "_view_name": "LayoutView",
            "align_content": null,
            "align_items": null,
            "align_self": null,
            "border": null,
            "bottom": null,
            "display": null,
            "flex": null,
            "flex_flow": null,
            "grid_area": null,
            "grid_auto_columns": null,
            "grid_auto_flow": null,
            "grid_auto_rows": null,
            "grid_column": null,
            "grid_gap": null,
            "grid_row": null,
            "grid_template_areas": null,
            "grid_template_columns": null,
            "grid_template_rows": null,
            "height": "600px",
            "justify_content": null,
            "justify_items": null,
            "left": null,
            "margin": null,
            "max_height": null,
            "max_width": null,
            "min_height": null,
            "min_width": null,
            "object_fit": null,
            "object_position": null,
            "order": null,
            "overflow": null,
            "overflow_x": null,
            "overflow_y": null,
            "padding": null,
            "right": null,
            "top": null,
            "visibility": null,
            "width": null
          }
        },
        "6f41cee686ec407cb95570c1044ecbc8": {
          "model_module": "jupyter-leaflet",
          "model_module_version": "^0.16.0",
          "model_name": "LeafletTileLayerModel",
          "state": {
            "_model_module": "jupyter-leaflet",
            "_model_module_version": "^0.16.0",
            "_model_name": "LeafletTileLayerModel",
            "_view_count": null,
            "_view_module": "jupyter-leaflet",
            "_view_module_version": "^0.16.0",
            "_view_name": "LeafletTileLayerView",
            "attribution": "&copy; <a href=\"https://www.openstreetmap.org/copyright\">OpenStreetMap</a> contributors",
            "base": true,
            "bottom": true,
            "bounds": null,
            "detect_retina": false,
            "loading": false,
            "max_native_zoom": 18,
            "max_zoom": 19,
            "min_native_zoom": 0,
            "min_zoom": 1,
            "name": "OpenStreetMap.Mapnik",
            "no_wrap": false,
            "opacity": 1,
            "options": [
              "attribution",
              "bounds",
              "detect_retina",
              "max_native_zoom",
              "max_zoom",
              "min_native_zoom",
              "min_zoom",
              "no_wrap",
              "tile_size",
              "tms"
            ],
            "popup": null,
            "popup_max_height": null,
            "popup_max_width": 300,
            "popup_min_width": 50,
            "show_loading": false,
            "tile_size": 256,
            "tms": false,
            "url": "https://a.tile.openstreetmap.org/{z}/{x}/{y}.png",
            "visible": true
          }
        },
        "6fe8b74e3ad54509a010f575bf34492a": {
          "model_module": "jupyter-leaflet",
          "model_module_version": "^0.16.0",
          "model_name": "LeafletMapStyleModel",
          "state": {
            "_model_module": "jupyter-leaflet",
            "_model_module_version": "^0.16.0",
            "_model_name": "LeafletMapStyleModel",
            "_view_count": null,
            "_view_module": "@jupyter-widgets/base",
            "_view_module_version": "1.2.0",
            "_view_name": "StyleView",
            "cursor": "move"
          }
        },
        "84817eefd28d4f8d9b4bb8f539dd946e": {
          "model_module": "jupyter-leaflet",
          "model_module_version": "^0.16.0",
          "model_name": "LeafletTileLayerModel",
          "state": {
            "_model_module": "jupyter-leaflet",
            "_model_module_version": "^0.16.0",
            "_model_name": "LeafletTileLayerModel",
            "_view_count": null,
            "_view_module": "jupyter-leaflet",
            "_view_module_version": "^0.16.0",
            "_view_name": "LeafletTileLayerView",
            "attribution": "Google Earth Engine",
            "base": false,
            "bottom": true,
            "bounds": null,
            "detect_retina": false,
            "loading": false,
            "max_native_zoom": 18,
            "max_zoom": 24,
            "min_native_zoom": 0,
            "min_zoom": 0,
            "name": "NOAA NDVI",
            "no_wrap": false,
            "opacity": 1,
            "options": [
              "attribution",
              "bounds",
              "detect_retina",
              "max_native_zoom",
              "max_zoom",
              "min_native_zoom",
              "min_zoom",
              "no_wrap",
              "tile_size",
              "tms"
            ],
            "popup": null,
            "popup_max_height": null,
            "popup_max_width": 300,
            "popup_min_width": 50,
            "show_loading": false,
            "tile_size": 256,
            "tms": false,
            "url": "https://earthengine.googleapis.com/v1alpha/projects/earthengine-legacy/maps/0a15249e2af01abb09521e93753a44e0-493e22103ea2276987b876a0ddda891a/tiles/{z}/{x}/{y}",
            "visible": true
          }
        },
        "9cf646965d44456bbe8eb63136744d7e": {
          "model_module": "jupyter-leaflet",
          "model_module_version": "^0.16.0",
          "model_name": "LeafletTileLayerModel",
          "state": {
            "_model_module": "jupyter-leaflet",
            "_model_module_version": "^0.16.0",
            "_model_name": "LeafletTileLayerModel",
            "_view_count": null,
            "_view_module": "jupyter-leaflet",
            "_view_module_version": "^0.16.0",
            "_view_name": "LeafletTileLayerView",
            "attribution": "Google Earth Engine",
            "base": false,
            "bottom": true,
            "bounds": null,
            "detect_retina": false,
            "loading": false,
            "max_native_zoom": 18,
            "max_zoom": 24,
            "min_native_zoom": 0,
            "min_zoom": 0,
            "name": "Niger Level 2 Departments",
            "no_wrap": false,
            "opacity": 1,
            "options": [
              "attribution",
              "bounds",
              "detect_retina",
              "max_native_zoom",
              "max_zoom",
              "min_native_zoom",
              "min_zoom",
              "no_wrap",
              "tile_size",
              "tms"
            ],
            "popup": null,
            "popup_max_height": null,
            "popup_max_width": 300,
            "popup_min_width": 50,
            "show_loading": false,
            "tile_size": 256,
            "tms": false,
            "url": "https://earthengine.googleapis.com/v1alpha/projects/earthengine-legacy/maps/122dbb972fc51106d8dca69947989125-b7c333bdea3dc8620d4eb41f299d2664/tiles/{z}/{x}/{y}",
            "visible": true
          }
        },
        "a7070afe39bb4640939de301d3575792": {
          "model_module": "jupyter-leaflet",
          "model_module_version": "^0.16.0",
          "model_name": "LeafletFullScreenControlModel",
          "state": {
            "_model_module": "jupyter-leaflet",
            "_model_module_version": "^0.16.0",
            "_model_name": "LeafletFullScreenControlModel",
            "_view_count": null,
            "_view_module": "jupyter-leaflet",
            "_view_module_version": "^0.16.0",
            "_view_name": "LeafletFullScreenControlView",
            "options": [
              "position"
            ],
            "position": "topleft"
          }
        },
        "aa12d63966b54bb48a373720a8555d10": {
          "model_module": "@jupyter-widgets/controls",
          "model_module_version": "1.5.0",
          "model_name": "HBoxModel",
          "state": {
            "_dom_classes": [],
            "_model_module": "@jupyter-widgets/controls",
            "_model_module_version": "1.5.0",
            "_model_name": "HBoxModel",
            "_view_count": null,
            "_view_module": "@jupyter-widgets/controls",
            "_view_module_version": "1.5.0",
            "_view_name": "HBoxView",
            "box_style": "",
            "children": [
              "IPY_MODEL_fd51193161c645c5a97a75873d8a857e"
            ],
            "layout": "IPY_MODEL_5e4d66f47fec4f7f942d9345e7df226a"
          }
        },
        "d3aca4afbbc742108a14393fad56039a": {
          "model_module": "@jupyter-widgets/base",
          "model_module_version": "1.2.0",
          "model_name": "LayoutModel",
          "state": {
            "_model_module": "@jupyter-widgets/base",
            "_model_module_version": "1.2.0",
            "_model_name": "LayoutModel",
            "_view_count": null,
            "_view_module": "@jupyter-widgets/base",
            "_view_module_version": "1.2.0",
            "_view_name": "LayoutView",
            "align_content": null,
            "align_items": null,
            "align_self": null,
            "border": null,
            "bottom": null,
            "display": null,
            "flex": null,
            "flex_flow": null,
            "grid_area": null,
            "grid_auto_columns": null,
            "grid_auto_flow": null,
            "grid_auto_rows": null,
            "grid_column": null,
            "grid_gap": null,
            "grid_row": null,
            "grid_template_areas": null,
            "grid_template_columns": null,
            "grid_template_rows": null,
            "height": "28px",
            "justify_content": null,
            "justify_items": null,
            "left": null,
            "margin": null,
            "max_height": null,
            "max_width": null,
            "min_height": null,
            "min_width": null,
            "object_fit": null,
            "object_position": null,
            "order": null,
            "overflow": null,
            "overflow_x": null,
            "overflow_y": null,
            "padding": "0px 0px 0px 4px",
            "right": null,
            "top": null,
            "visibility": null,
            "width": "28px"
          }
        },
        "d6df360499f44254a8802a0bcd8dd69b": {
          "model_module": "@jupyter-widgets/controls",
          "model_module_version": "1.5.0",
          "model_name": "VBoxModel",
          "state": {
            "_dom_classes": [],
            "_model_module": "@jupyter-widgets/controls",
            "_model_module_version": "1.5.0",
            "_model_name": "VBoxModel",
            "_view_count": null,
            "_view_module": "@jupyter-widgets/controls",
            "_view_module_version": "1.5.0",
            "_view_name": "VBoxView",
            "box_style": "",
            "children": [
              "IPY_MODEL_0141198a562b49b2949183ad8bdf730a"
            ],
            "layout": "IPY_MODEL_550513982b924b9cb874f61afc99f338"
          }
        },
        "e941be66e95c4e9383552c515ffc5190": {
          "model_module": "jupyter-leaflet",
          "model_module_version": "^0.16.0",
          "model_name": "LeafletAttributionControlModel",
          "state": {
            "_model_module": "jupyter-leaflet",
            "_model_module_version": "^0.16.0",
            "_model_name": "LeafletAttributionControlModel",
            "_view_count": null,
            "_view_module": "jupyter-leaflet",
            "_view_module_version": "^0.16.0",
            "_view_name": "LeafletAttributionControlView",
            "options": [
              "position",
              "prefix"
            ],
            "position": "bottomright",
            "prefix": "ipyleaflet"
          }
        },
        "f62948c3df1f431193db3047cbd45a4b": {
          "model_module": "@jupyter-widgets/controls",
          "model_module_version": "1.5.0",
          "model_name": "DescriptionStyleModel",
          "state": {
            "_model_module": "@jupyter-widgets/controls",
            "_model_module_version": "1.5.0",
            "_model_name": "DescriptionStyleModel",
            "_view_count": null,
            "_view_module": "@jupyter-widgets/base",
            "_view_module_version": "1.2.0",
            "_view_name": "StyleView",
            "description_width": ""
          }
        },
        "f9354cafd0a345d199279dcf6ccd08ba": {
          "model_module": "jupyter-leaflet",
          "model_module_version": "^0.16.0",
          "model_name": "LeafletMapModel",
          "state": {
            "_dom_classes": [],
            "_dragging": false,
            "_model_module": "jupyter-leaflet",
            "_model_module_version": "^0.16.0",
            "_model_name": "LeafletMapModel",
            "_view_count": null,
            "_view_module": "jupyter-leaflet",
            "_view_module_version": "^0.16.0",
            "_view_name": "LeafletMapView",
            "bottom": 3993,
            "bounce_at_zoom_limits": true,
            "box_zoom": true,
            "center": [
              17.416680667959515,
              9.347053286942527
            ],
            "close_popup_on_click": true,
            "controls": [
              "IPY_MODEL_53d9add4e8a84e38aec4f4c5f3229a48",
              "IPY_MODEL_2f2742e39f2a4ff48bf9c464c279f084",
              "IPY_MODEL_664b4a1c8e8f4e62a58092ea1ca22dcb",
              "IPY_MODEL_a7070afe39bb4640939de301d3575792",
              "IPY_MODEL_542c1e8c0750486ca9f496c22e37c417",
              "IPY_MODEL_e941be66e95c4e9383552c515ffc5190",
              "IPY_MODEL_2330b84b3b224b09a60af2a6e0d9303f",
              "IPY_MODEL_50f7266ab2444d3cbf3a2e20bb664438"
            ],
            "crs": {
              "custom": false,
              "name": "EPSG3857"
            },
            "default_style": "IPY_MODEL_30e14db46db14172b3c7f2ce2916892d",
            "double_click_zoom": true,
            "dragging": true,
            "dragging_style": "IPY_MODEL_6fe8b74e3ad54509a010f575bf34492a",
            "east": 33.70605468750001,
            "fullscreen": false,
            "inertia": true,
            "inertia_deceleration": 3000,
            "inertia_max_speed": 1500,
            "interpolation": "bilinear",
            "keyboard": true,
            "keyboard_pan_offset": 80,
            "keyboard_zoom_offset": 1,
            "layers": [
              "IPY_MODEL_6f41cee686ec407cb95570c1044ecbc8",
              "IPY_MODEL_611e693de45a445594b8d7f52bb91388",
              "IPY_MODEL_9cf646965d44456bbe8eb63136744d7e",
              "IPY_MODEL_84817eefd28d4f8d9b4bb8f539dd946e"
            ],
            "layout": "IPY_MODEL_6a3a948f22aa4e17a48a888b4cae9db3",
            "left": 3754,
            "max_zoom": 24,
            "min_zoom": 1,
            "modisdate": "2022-06-29",
            "north": 29.49698759653577,
            "options": [
              "bounce_at_zoom_limits",
              "box_zoom",
              "center",
              "close_popup_on_click",
              "double_click_zoom",
              "dragging",
              "fullscreen",
              "inertia",
              "inertia_deceleration",
              "inertia_max_speed",
              "interpolation",
              "keyboard",
              "keyboard_pan_offset",
              "keyboard_zoom_offset",
              "max_zoom",
              "min_zoom",
              "prefer_canvas",
              "scroll_wheel_zoom",
              "tap",
              "tap_tolerance",
              "touch_zoom",
              "world_copy_jump",
              "zoom",
              "zoom_animation_threshold",
              "zoom_delta",
              "zoom_snap",
              "zoom_start"
            ],
            "prefer_canvas": false,
            "right": 4863,
            "scroll_wheel_zoom": true,
            "south": 4.521666342614804,
            "style": "IPY_MODEL_30e14db46db14172b3c7f2ce2916892d",
            "tap": true,
            "tap_tolerance": 15,
            "top": 3393,
            "touch_zoom": true,
            "west": -15.029296875000002,
            "window_url": "https://s0rt94zyb1j-496ff2e9c6d22116-0-colab.googleusercontent.com/outputframe.html?vrz=colab-20220628-060046-RC00_457694881",
            "world_copy_jump": false,
            "zoom": 5,
            "zoom_animation_threshold": 4,
            "zoom_delta": 1,
            "zoom_snap": 1,
            "zoom_start": 12
          }
        },
        "fd51193161c645c5a97a75873d8a857e": {
          "model_module": "@jupyter-widgets/controls",
          "model_module_version": "1.5.0",
          "model_name": "ToggleButtonModel",
          "state": {
            "_dom_classes": [],
            "_model_module": "@jupyter-widgets/controls",
            "_model_module_version": "1.5.0",
            "_model_name": "ToggleButtonModel",
            "_view_count": null,
            "_view_module": "@jupyter-widgets/controls",
            "_view_module_version": "1.5.0",
            "_view_name": "ToggleButtonView",
            "button_style": "",
            "description": "",
            "description_tooltip": null,
            "disabled": false,
            "icon": "globe",
            "layout": "IPY_MODEL_2e604587847f4d37ab4a3a90c23fecd4",
            "style": "IPY_MODEL_f62948c3df1f431193db3047cbd45a4b",
            "tooltip": "Search location/data",
            "value": false
          }
        }
      }
    }
  },
  "nbformat": 4,
  "nbformat_minor": 0
}
